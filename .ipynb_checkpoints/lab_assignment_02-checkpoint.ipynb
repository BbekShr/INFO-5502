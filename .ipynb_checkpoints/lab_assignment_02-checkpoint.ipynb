{
 "cells": [
  {
   "cell_type": "markdown",
   "metadata": {
    "colab_type": "text",
    "id": "Ryk8D1Q4Wsrp"
   },
   "source": [
    "# **The second Lab-assignment (07/19/2022 11:59'AM' - 07/22/2022 11:59PM, 50 points in total)**"
   ]
  },
  {
   "cell_type": "markdown",
   "metadata": {
    "colab_type": "text",
    "id": "90_NR8c5XGWc"
   },
   "source": [
    "# Question 1\n",
    "\n",
    "(5 points). Write a Python program to generate 12 random numbers between 1 and 100. Sort the list of numbers in ascending order and print it out. Sort the list of numbers in descending order and print it out. Calculate the average for the group and print it out."
   ]
  },
  {
   "cell_type": "code",
   "execution_count": 1,
   "metadata": {
    "colab": {},
    "colab_type": "code",
    "id": "5QX6bJjGWXY9"
   },
   "outputs": [
    {
     "name": "stdout",
     "output_type": "stream",
     "text": [
      "Random list:  [83, 5, 16, 40, 89]\n",
      "Ascending order:  [5, 16, 40, 83, 89]\n",
      "Descending order:  [89, 83, 40, 16, 5]\n",
      "Average of the list is:  46.6\n"
     ]
    }
   ],
   "source": [
    "# Your code here\n",
    "import random\n",
    "\n",
    "#Random number generator\n",
    "def generate_random(min, max, count):\n",
    "    randomlist = list(random.sample(range(min, max), count))\n",
    "    return randomlist\n",
    "\n",
    "def Average(my_list):\n",
    "    return sum(my_list)/len(my_list)\n",
    "\n",
    "#function call\n",
    "randomlist = generate_random(1, 100, 5)\n",
    "print(\"Random list: \", randomlist)\n",
    "\n",
    "#Sort ascending order\n",
    "randomlist.sort()\n",
    "print(\"Ascending order: \", randomlist)\n",
    "\n",
    "#Sort descending order\n",
    "randomlist.sort(reverse=True)\n",
    "print(\"Descending order: \",randomlist)\n",
    "\n",
    "#Get average \n",
    "print(\"Average of the list is: \",Average(randomlist))\n"
   ]
  },
  {
   "cell_type": "markdown",
   "metadata": {
    "colab_type": "text",
    "id": "CmFoI4jDS9nx"
   },
   "source": [
    "# Question 2 \n",
    "\n",
    "(5 points). The formula that describes the volume V of a sphere with radius r is the following:\n",
    "\n",
    "$ V=\\frac{4}{3}\\ast\\ \\pi\\ast\\ r^3 $\n",
    "\n",
    "Write a program to calculate the value of V when r is in the range of 1–10. Output the result in the following format:\n",
    "\n",
    "\tr\tV\n",
    "\t1\t…\n",
    "\t2\t…\n",
    "\t3\t…\n"
   ]
  },
  {
   "cell_type": "code",
   "execution_count": 2,
   "metadata": {
    "colab": {},
    "colab_type": "code",
    "id": "pEyqeioAT95b"
   },
   "outputs": [
    {
     "name": "stdout",
     "output_type": "stream",
     "text": [
      "r \t V\n",
      "1 \t 4.1866666666666665\n",
      "2 \t 33.49333333333333\n",
      "3 \t 113.03999999999999\n",
      "4 \t 267.94666666666666\n",
      "5 \t 523.3333333333334\n",
      "6 \t 904.3199999999999\n",
      "7 \t 1436.0266666666666\n",
      "8 \t 2143.5733333333333\n",
      "9 \t 3052.08\n",
      "10 \t 4186.666666666667\n"
     ]
    }
   ],
   "source": [
    "# Your code here\n",
    "\n",
    "#define function to calculate V\n",
    "def Calculate_V(start, end):\n",
    "    print(\"r \\t V\")\n",
    "    for x in range(start, end + 1):\n",
    "        V = 4/3 * 3.14 * pow(x,3)\n",
    "        print(x, \"\\t\", V)\n",
    "\n",
    "#Function call to calculate V\n",
    "Calculate_V(1, 10)"
   ]
  },
  {
   "cell_type": "markdown",
   "metadata": {
    "colab_type": "text",
    "id": "z3tBE7E-Xn5X"
   },
   "source": [
    "# Question 3\n",
    "\n",
    "(40 points). In the field of Data Science, data is often formatted as a comma-delimited (CSV) file, where each line in a file corresponds to a field's value. Refer to Chapter 9 (p. 106) for more information on comma-delimited files. To answer this question, you will need to download the file [lab_assignment_02_denton_housing.csv](https://github.com/suthapalliuday/INFO5502-Summer2022/blob/main/datasets/lab_assignment_02_denton_housing.csv) included with this assignment. The file [lab_assignment_02_denton_housing.csv](https://github.com/suthapalliuday/INFO5502-Summer2022/blob/main/datasets/lab_assignment_02_denton_housing.csv) contains statistics about housing in the city of Denton from 2008 to 2014. Write a program to implement the following questions.\n",
    "\n",
    "(1) (10 pts) Calculate the difference in the number of Occupied Housing Units from year to year and print it. The difference must be calculated for the consecutive years such as 2008-2009, 2009-2010 etc. Finally, print the values in the ascending order.\n",
    "\n",
    "(2) (10 pts) For all the years, calculate the percentage of housing units which are vacant an occupied. Print the results in the following format:\n",
    "\n",
    "Year Vacant Housing Units Occupied Housing Units\n",
    "\n",
    "    2008  30%   70%                          \n",
    "\t2009 ----- -----\n",
    "\t2010 ----- -----\n",
    "    2011 ----- -----\n",
    "\t2012 ----- -----\n",
    "    2013 ----- -----\n",
    "\t2014 ----- -----\n",
    "  \n",
    "  \n",
    "\n",
    "(3) (10 pts) Calculate and print the valued and years in which the highest number of housing units were vacant and occupied. Print the results in the following format:  \n",
    "\n",
    "                              Year\tValue\n",
    "\tVacant Housing Units\t  -----   -----\n",
    "\tOccupied Housing Units\t-----   -----\n",
    "\n",
    "(4) (10 pts) Calculate the harmonic mean of the total housing units and print it out. You can find the information about harmonic mean here: https://ncalculators.com/statistics/harmonic-mean-calculator.htm"
   ]
  },
  {
   "cell_type": "code",
   "execution_count": 3,
   "metadata": {
    "colab": {},
    "colab_type": "code",
    "id": "lqGYuHBhcsRH"
   },
   "outputs": [
    {
     "name": "stdout",
     "output_type": "stream",
     "text": [
      "\n",
      "The difference in the number of Occupied Housing Units from year to year: \n",
      "\n",
      " year            title_field  value    Diff\n",
      " 2014 Occupied Housing Units  46295     NaN\n",
      " 2013 Occupied Housing Units  43673 -2622.0\n",
      " 2012 Occupied Housing Units  42108 -1565.0\n",
      " 2011 Occupied Housing Units  40704 -1404.0\n",
      " 2010 Occupied Housing Units  41007   303.0\n",
      " 2009 Occupied Housing Units  35916 -5091.0\n",
      " 2008 Occupied Housing Units  36711   795.0\n",
      "\n",
      " Difference values in ascending order: \n",
      "\n",
      " year            title_field  value    Diff\n",
      " 2009 Occupied Housing Units  35916 -5091.0\n",
      " 2013 Occupied Housing Units  43673 -2622.0\n",
      " 2012 Occupied Housing Units  42108 -1565.0\n",
      " 2011 Occupied Housing Units  40704 -1404.0\n",
      " 2010 Occupied Housing Units  41007   303.0\n",
      " 2008 Occupied Housing Units  36711   795.0\n",
      " 2014 Occupied Housing Units  46295     NaN\n"
     ]
    }
   ],
   "source": [
    "# Your code here\n",
    "\n",
    "# (1) (10 pts) Calculate the difference in the number of Occupied Housing Units from year to year and print it. \n",
    "# The difference must be calculated for the consecutive years such as 2008-2009, 2009-2010 etc. \n",
    "# Finally, print the values in the ascending order.\n",
    "\n",
    "import pandas as pd\n",
    "\n",
    "#Read csv file\n",
    "denton_housing = pd.read_csv('lab_assignment_02_denton_housing.csv')\n",
    "\n",
    "#Get rows where title field equals to Occupied Housing Units\n",
    "denton_housing = denton_housing.loc[denton_housing[\"title_field\"] == \"Occupied Housing Units\" ]\n",
    "\n",
    "#Get and print the difference\n",
    "denton_housing['Diff'] = denton_housing['value'].diff()\n",
    "print(\"\\nThe difference in the number of Occupied Housing Units from year to year: \\n\")\n",
    "print(denton_housing.to_string(index=False))\n",
    "\n",
    "#Sort by difference value in ascending order and print difference\n",
    "denton_housing_sorted = denton_housing.sort_values(by = 'Diff')\n",
    "print(\"\\n Difference values in ascending order: \\n\")\n",
    "print(denton_housing_sorted.to_string(index=False))"
   ]
  },
  {
   "cell_type": "code",
   "execution_count": 4,
   "metadata": {},
   "outputs": [
    {
     "name": "stdout",
     "output_type": "stream",
     "text": [
      " year Vacant Housing Units Occupied Housing Units\n",
      " 2008                  11%                    89%\n",
      " 2009                   9%                    91%\n",
      " 2010                   8%                    92%\n",
      " 2011                   9%                    91%\n",
      " 2012                   7%                    93%\n",
      " 2013                   9%                    91%\n",
      " 2014                   6%                    94%\n"
     ]
    }
   ],
   "source": [
    "\n",
    "# (2) (10 pts) For all the years, calculate the percentage of housing units which are vacant and occupied.\n",
    "\n",
    "#Read CSV file\n",
    "denton_housing = pd.read_csv('lab_assignment_02_denton_housing.csv')\n",
    "\n",
    "#Pivot table for easy calculation based on Title field\n",
    "denton_housing = (pd.pivot_table(\n",
    "    data=denton_housing,\n",
    "    index='year',\n",
    "    columns='title_field',\n",
    "    values='value')\n",
    "    .rename_axis(columns=None)\n",
    ").reset_index()\n",
    "\n",
    "#Calculate percentage for Occupied Housing Units and Vacant Housing Units and add unit % column\n",
    "denton_housing [\"Occupied Housing Units\"] = (denton_housing[\"Occupied Housing Units\"]/denton_housing[\"Total Housing Units\"]) * 100\n",
    "denton_housing [\"Vacant Housing Units\"] = (denton_housing[\"Vacant Housing Units\"]/denton_housing[\"Total Housing Units\"]) * 100\n",
    "denton_housing = denton_housing[['year', 'Vacant Housing Units', 'Occupied Housing Units']].round().astype(int)\n",
    "denton_housing[\"%_unit\"] = \"%\"\n",
    "\n",
    "#Add unit % to the caluclated field and get required result\n",
    "denton_housing [\"Occupied Housing Units\"]  = denton_housing[\"Occupied Housing Units\"].astype(str) + denton_housing[\"%_unit\"]\n",
    "denton_housing [\"Vacant Housing Units\"] = denton_housing[\"Vacant Housing Units\"].astype(str) + denton_housing[\"%_unit\"]\n",
    "denton_housing = denton_housing[['year', 'Vacant Housing Units', 'Occupied Housing Units']]\n",
    "\n",
    "#Print final result\n",
    "print(denton_housing.to_string(index=False))\n"
   ]
  },
  {
   "cell_type": "code",
   "execution_count": 5,
   "metadata": {},
   "outputs": [
    {
     "name": "stdout",
     "output_type": "stream",
     "text": [
      "                        Year  Value\n",
      "  Vacant Housing Units  2008   4483\n",
      "Occupied Housing Units  2014  46295\n"
     ]
    }
   ],
   "source": [
    "\n",
    "# (3)(10 pts) Calculate and print the valued and years in which \n",
    "# the highest number of housing units were vacant and occupied. \n",
    "\n",
    "#Read CSV file\n",
    "denton_housing = pd.read_csv('lab_assignment_02_denton_housing.csv')\n",
    "\n",
    "#Divide dataframe to get specific value for Vacant Housing Units and Occupied Housing Units\n",
    "denton_housing_vacant_max = denton_housing.loc[denton_housing[\"title_field\"] == \"Vacant Housing Units\" ]\n",
    "denton_housing_vacant_max = denton_housing_vacant_max[denton_housing_vacant_max.value == denton_housing_vacant_max.value.max()]\n",
    "\n",
    "denton_housing_occupied_max = denton_housing.loc[denton_housing[\"title_field\"] == \"Occupied Housing Units\" ]\n",
    "denton_housing_occupied_max = denton_housing_occupied_max[denton_housing_occupied_max.value == denton_housing_occupied_max.value.max()]\n",
    "\n",
    "#Merge the resulting value and format the dataframe\n",
    "result = pd.concat([denton_housing_vacant_max,denton_housing_occupied_max ])\n",
    "result = result[[\"title_field\", 'year', 'value']]\n",
    "result = result.rename({\"title_field\": \"\", 'year':\"Year\", 'value': \"Value\"}, axis=1)\n",
    "\n",
    "print(result.to_string(index=False))\n"
   ]
  },
  {
   "cell_type": "code",
   "execution_count": 6,
   "metadata": {},
   "outputs": [
    {
     "name": "stdout",
     "output_type": "stream",
     "text": [
      "The harmonic mean of the total housing units is:  44398.28543969185\n"
     ]
    }
   ],
   "source": [
    "\n",
    "# (4) (10 pts) Calculate the harmonic mean of the total housing units and print it out. \n",
    "## You can find the information about harmonic mean here: https://ncalculators.com/statistics/harmonic-mean-calculator.htm\n",
    "\n",
    "import statistics\n",
    "\n",
    "#Read CSV file\n",
    "denton_housing = pd.read_csv('lab_assignment_02_denton_housing.csv')\n",
    "\n",
    "#Get rows where title field equals to Occupied Housing Units\n",
    "denton_housing = denton_housing.loc[denton_housing[\"title_field\"] == \"Total Housing Units\" ]\n",
    "\n",
    "#Get Harmonic mean of value column\n",
    "harmonic_mean = statistics.harmonic_mean(denton_housing['value'])\n",
    "print(\"The harmonic mean of the total housing units is: \", harmonic_mean)\n"
   ]
  }
 ],
 "metadata": {
  "colab": {
   "authorship_tag": "ABX9TyOAjsNCkNulTpzgRQbHdy3f",
   "collapsed_sections": [],
   "include_colab_link": true,
   "name": "INFO5731_Assignment_One.ipynb",
   "provenance": []
  },
  "kernelspec": {
   "display_name": "Python 3 (ipykernel)",
   "language": "python",
   "name": "python3"
  },
  "language_info": {
   "codemirror_mode": {
    "name": "ipython",
    "version": 3
   },
   "file_extension": ".py",
   "mimetype": "text/x-python",
   "name": "python",
   "nbconvert_exporter": "python",
   "pygments_lexer": "ipython3",
   "version": "3.9.12"
  }
 },
 "nbformat": 4,
 "nbformat_minor": 1
}
