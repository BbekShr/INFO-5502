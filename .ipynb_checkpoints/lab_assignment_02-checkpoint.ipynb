{
 "cells": [
  {
   "cell_type": "markdown",
   "metadata": {
    "colab_type": "text",
    "id": "Ryk8D1Q4Wsrp"
   },
   "source": [
    "# **The second Lab-assignment (07/19/2022 11:59'AM' - 07/22/2022 11:59PM, 50 points in total)**"
   ]
  },
  {
   "cell_type": "markdown",
   "metadata": {
    "colab_type": "text",
    "id": "90_NR8c5XGWc"
   },
   "source": [
    "# Question 1\n",
    "\n",
    "(5 points). Write a Python program to generate 12 random numbers between 1 and 100. Sort the list of numbers in ascending order and print it out. Sort the list of numbers in descending order and print it out. Calculate the average for the group and print it out."
   ]
  },
  {
   "cell_type": "code",
   "execution_count": 18,
   "metadata": {
    "colab": {},
    "colab_type": "code",
    "id": "5QX6bJjGWXY9"
   },
   "outputs": [
    {
     "name": "stdout",
     "output_type": "stream",
     "text": [
      "Random list:  [60, 5, 22, 51, 3]\n",
      "Ascending order:  [3, 5, 22, 51, 60]\n",
      "Descending order:  [60, 51, 22, 5, 3]\n",
      "Average of the list is:  28.2\n"
     ]
    }
   ],
   "source": [
    "# Your code here\n",
    "import random\n",
    "\n",
    "#Random number generator\n",
    "def generate_random(min, max, count):\n",
    "    randomlist = list(random.sample(range(min, max), count))\n",
    "    return randomlist\n",
    "\n",
    "def Average(my_list):\n",
    "    return sum(my_list)/len(my_list)\n",
    "\n",
    "#function call\n",
    "randomlist = generate_random(1, 100, 5)\n",
    "print(\"Random list: \", randomlist)\n",
    "\n",
    "#Sort ascending order\n",
    "randomlist.sort()\n",
    "print(\"Ascending order: \", randomlist)\n",
    "\n",
    "#Sort descending order\n",
    "randomlist.sort(reverse=True)\n",
    "print(\"Descending order: \",randomlist)\n",
    "\n",
    "\n",
    "#Get average \n",
    "print(\"Average of the list is: \",Average(randomlist))\n"
   ]
  },
  {
   "cell_type": "markdown",
   "metadata": {
    "colab_type": "text",
    "id": "CmFoI4jDS9nx"
   },
   "source": [
    "# Question 2 \n",
    "\n",
    "(5 points). The formula that describes the volume V of a sphere with radius r is the following:\n",
    "\n",
    "$ V=\\frac{4}{3}\\ast\\ \\pi\\ast\\ r^3 $\n",
    "\n",
    "Write a program to calculate the value of V when r is in the range of 1–10. Output the result in the following format:\n",
    "\n",
    "\tr\tV\n",
    "\t1\t…\n",
    "\t2\t…\n",
    "\t3\t…\n"
   ]
  },
  {
   "cell_type": "code",
   "execution_count": 29,
   "metadata": {
    "colab": {},
    "colab_type": "code",
    "id": "pEyqeioAT95b"
   },
   "outputs": [
    {
     "name": "stdout",
     "output_type": "stream",
     "text": [
      "r \t V\n",
      "1 \t 4.1866666666666665\n",
      "2 \t 33.49333333333333\n",
      "3 \t 113.03999999999999\n",
      "4 \t 267.94666666666666\n",
      "5 \t 523.3333333333334\n",
      "6 \t 904.3199999999999\n",
      "7 \t 1436.0266666666666\n",
      "8 \t 2143.5733333333333\n",
      "9 \t 3052.08\n",
      "10 \t 4186.666666666667\n"
     ]
    }
   ],
   "source": [
    "# Your code here\n",
    "\n",
    "#define function to calculate V\n",
    "def Calculate_V(start, end):\n",
    "    print(\"r \\t V\")\n",
    "    for x in range(start, end + 1):\n",
    "        V = 4/3 * 3.14 * pow(x,3)\n",
    "        print(x, \"\\t\", V)\n",
    "\n",
    "#Function call to calculate V\n",
    "Calculate_V(1, 10)"
   ]
  },
  {
   "cell_type": "markdown",
   "metadata": {
    "colab_type": "text",
    "id": "z3tBE7E-Xn5X"
   },
   "source": [
    "# Question 3\n",
    "\n",
    "(40 points). In the field of Data Science, data is often formatted as a comma-delimited (CSV) file, where each line in a file corresponds to a field's value. Refer to Chapter 9 (p. 106) for more information on comma-delimited files. To answer this question, you will need to download the file [lab_assignment_02_denton_housing.csv](https://github.com/suthapalliuday/INFO5502-Summer2022/blob/main/datasets/lab_assignment_02_denton_housing.csv) included with this assignment. The file [lab_assignment_02_denton_housing.csv](https://github.com/suthapalliuday/INFO5502-Summer2022/blob/main/datasets/lab_assignment_02_denton_housing.csv) contains statistics about housing in the city of Denton from 2008 to 2014. Write a program to implement the following questions.\n",
    "\n",
    "(1) (10 pts) Calculate the difference in the number of Occupied Housing Units from year to year and print it. The difference must be calculated for the consecutive years such as 2008-2009, 2009-2010 etc. Finally, print the values in the ascending order.\n",
    "\n",
    "(2) (10 pts) For all the years, calculate the percentage of housing units which are vacant an occupied. Print the results in the following format:\n",
    "\n",
    "Year Vacant Housing Units Occupied Housing Units\n",
    "\n",
    "    2008  30%   70%                          \n",
    "\t2009 ----- -----\n",
    "\t2010 ----- -----\n",
    "    2011 ----- -----\n",
    "\t2012 ----- -----\n",
    "    2013 ----- -----\n",
    "\t2014 ----- -----\n",
    "  \n",
    "  \n",
    "\n",
    "(3) (10 pts) Calculate and print the valued and years in which the highest number of housing units were vacant and occupied. Print the results in the following format:  \n",
    "\n",
    "                              Year\tValue\n",
    "\tVacant Housing Units\t  -----   -----\n",
    "\tOccupied Housing Units\t-----   -----\n",
    "\n",
    "(4) (10 pts) Calculate the harmonic mean of the total housing units and print it out. You can find the information about harmonic mean here: https://ncalculators.com/statistics/harmonic-mean-calculator.htm"
   ]
  },
  {
   "cell_type": "code",
   "execution_count": 75,
   "metadata": {
    "colab": {},
    "colab_type": "code",
    "id": "lqGYuHBhcsRH"
   },
   "outputs": [
    {
     "name": "stdout",
     "output_type": "stream",
     "text": [
      "    year             title_field  value    Diff\n",
      "2   2014  Occupied Housing Units  46295     NaN\n",
      "5   2013  Occupied Housing Units  43673 -2622.0\n",
      "8   2012  Occupied Housing Units  42108 -1565.0\n",
      "11  2011  Occupied Housing Units  40704 -1404.0\n",
      "14  2010  Occupied Housing Units  41007   303.0\n",
      "17  2009  Occupied Housing Units  35916 -5091.0\n",
      "20  2008  Occupied Housing Units  36711   795.0\n",
      "\n",
      "Sorted value by year\n",
      "\n",
      "    year             title_field  value    Diff\n",
      "17  2009  Occupied Housing Units  35916 -5091.0\n",
      "5   2013  Occupied Housing Units  43673 -2622.0\n",
      "8   2012  Occupied Housing Units  42108 -1565.0\n",
      "11  2011  Occupied Housing Units  40704 -1404.0\n",
      "14  2010  Occupied Housing Units  41007   303.0\n",
      "20  2008  Occupied Housing Units  36711   795.0\n",
      "2   2014  Occupied Housing Units  46295     NaN\n"
     ]
    }
   ],
   "source": [
    "# Your code here\n",
    "\n",
    "# (1) (10 pts) Calculate the difference in the number of Occupied Housing Units from year to year and print it. \n",
    "# The difference must be calculated for the consecutive years such as 2008-2009, 2009-2010 etc. \n",
    "# Finally, print the values in the ascending order.\n",
    "\n",
    "import pandas as pd\n",
    "\n",
    "#Read csv file\n",
    "denton_housing = pd.read_csv('lab_assignment_02_denton_housing.csv')\n",
    "\n",
    "#Get rows where title field equals to Occupied Housing Units\n",
    "denton_housing = denton_housing.loc[denton_housing[\"title_field\"] == \"Occupied Housing Units\" ]\n",
    "\n",
    "#Get and print the difference\n",
    "denton_housing['Diff'] = denton_housing['value'].diff()\n",
    "print(denton_housing.to_string())\n",
    "\n",
    "print(\"\\nSorted value by Diff value\\n\")\n",
    "\n",
    "denton_housing_sorted = denton_housing.sort_values(by = 'Diff')\n",
    "print(denton_housing_sorted.to_string())"
   ]
  },
  {
   "cell_type": "code",
   "execution_count": 77,
   "metadata": {},
   "outputs": [
    {
     "data": {
      "text/html": [
       "<div>\n",
       "<style scoped>\n",
       "    .dataframe tbody tr th:only-of-type {\n",
       "        vertical-align: middle;\n",
       "    }\n",
       "\n",
       "    .dataframe tbody tr th {\n",
       "        vertical-align: top;\n",
       "    }\n",
       "\n",
       "    .dataframe thead th {\n",
       "        text-align: right;\n",
       "    }\n",
       "</style>\n",
       "<table border=\"1\" class=\"dataframe\">\n",
       "  <thead>\n",
       "    <tr style=\"text-align: right;\">\n",
       "      <th></th>\n",
       "      <th>year</th>\n",
       "      <th>Vacant Housing Units</th>\n",
       "      <th>Occupied Housing Units</th>\n",
       "    </tr>\n",
       "  </thead>\n",
       "  <tbody>\n",
       "    <tr>\n",
       "      <th>0</th>\n",
       "      <td>2008</td>\n",
       "      <td>10.882653</td>\n",
       "      <td>89.117347</td>\n",
       "    </tr>\n",
       "    <tr>\n",
       "      <th>1</th>\n",
       "      <td>2009</td>\n",
       "      <td>9.071116</td>\n",
       "      <td>90.928884</td>\n",
       "    </tr>\n",
       "    <tr>\n",
       "      <th>2</th>\n",
       "      <td>2010</td>\n",
       "      <td>8.142556</td>\n",
       "      <td>91.857444</td>\n",
       "    </tr>\n",
       "    <tr>\n",
       "      <th>3</th>\n",
       "      <td>2011</td>\n",
       "      <td>9.379522</td>\n",
       "      <td>90.620478</td>\n",
       "    </tr>\n",
       "    <tr>\n",
       "      <th>4</th>\n",
       "      <td>2012</td>\n",
       "      <td>6.677600</td>\n",
       "      <td>93.322400</td>\n",
       "    </tr>\n",
       "    <tr>\n",
       "      <th>5</th>\n",
       "      <td>2013</td>\n",
       "      <td>8.801788</td>\n",
       "      <td>91.198212</td>\n",
       "    </tr>\n",
       "    <tr>\n",
       "      <th>6</th>\n",
       "      <td>2014</td>\n",
       "      <td>5.730111</td>\n",
       "      <td>94.269889</td>\n",
       "    </tr>\n",
       "  </tbody>\n",
       "</table>\n",
       "</div>"
      ],
      "text/plain": [
       "   year  Vacant Housing Units  Occupied Housing Units\n",
       "0  2008             10.882653               89.117347\n",
       "1  2009              9.071116               90.928884\n",
       "2  2010              8.142556               91.857444\n",
       "3  2011              9.379522               90.620478\n",
       "4  2012              6.677600               93.322400\n",
       "5  2013              8.801788               91.198212\n",
       "6  2014              5.730111               94.269889"
      ]
     },
     "execution_count": 77,
     "metadata": {},
     "output_type": "execute_result"
    }
   ],
   "source": [
    "# (2) (10 pts) For all the years, calculate the percentage of housing units which are vacant and occupied.\n",
    "\n",
    "\n",
    "denton_housing = pd.read_csv('lab_assignment_02_denton_housing.csv')\n",
    "denton_housing = (pd.pivot_table(\n",
    "    data=denton_housing,\n",
    "    index='year',\n",
    "    columns='title_field',\n",
    "    values='value')\n",
    "    .rename_axis(columns=None)\n",
    ").reset_index()\n",
    "\n",
    "\n",
    "denton_housing [\"Occupied Housing Units\"] = (denton_housing[\"Occupied Housing Units\"]/denton_housing[\"Total Housing Units\"]) * 100\n",
    "denton_housing [\"Vacant Housing Units\"] = (denton_housing[\"Vacant Housing Units\"]/denton_housing[\"Total Housing Units\"]) * 100\n",
    "denton_housing[['year', 'Vacant Housing Units', 'Occupied Housing Units']]\n"
   ]
  },
  {
   "cell_type": "code",
   "execution_count": 95,
   "metadata": {},
   "outputs": [
    {
     "name": "stdout",
     "output_type": "stream",
     "text": [
      "    year             title_field  value\n",
      "0   2014     Total Housing Units  49109\n",
      "1   2014    Vacant Housing Units   2814\n",
      "2   2014  Occupied Housing Units  46295\n",
      "3   2013     Total Housing Units  47888\n",
      "4   2013    Vacant Housing Units   4215\n",
      "5   2013  Occupied Housing Units  43673\n",
      "6   2012     Total Housing Units  45121\n",
      "7   2012    Vacant Housing Units   3013\n",
      "8   2012  Occupied Housing Units  42108\n",
      "9   2011     Total Housing Units  44917\n",
      "10  2011    Vacant Housing Units   4213\n",
      "11  2011  Occupied Housing Units  40704\n",
      "12  2010     Total Housing Units  44642\n",
      "13  2010    Vacant Housing Units   3635\n",
      "14  2010  Occupied Housing Units  41007\n",
      "15  2009     Total Housing Units  39499\n",
      "16  2009    Vacant Housing Units   3583\n",
      "17  2009  Occupied Housing Units  35916\n",
      "18  2008     Total Housing Units  41194\n",
      "19  2008    Vacant Housing Units   4483\n",
      "20  2008  Occupied Housing Units  36711\n",
      "21  2014          Owner Occupied  21427\n",
      "22  2014         Renter Occupied  24868\n",
      "23  2013          Owner Occupied  20845\n",
      "24  2013         Renter Occupied  22828\n",
      "25  2012          Owner Occupied  20068\n",
      "26  2012         Renter Occupied  22040\n",
      "27  2011          Owner Occupied  18478\n",
      "28  2011         Renter Occupied  22226\n",
      "29  2010          Owner Occupied  18867\n",
      "30  2010         Renter Occupied  22140\n",
      "31  2009          Owner Occupied  18057\n",
      "32  2009         Renter Occupied  17859\n",
      "33  2008          Owner Occupied  17340\n",
      "34  2008         Renter Occupied  19371\n",
      "35  2014       Median Gross Rent    905\n",
      "36  2013       Median Gross Rent    887\n",
      "37  2012       Median Gross Rent    842\n",
      "38  2011       Median Gross Rent    821\n",
      "39  2010       Median Gross Rent    780\n",
      "40  2009       Median Gross Rent    769\n",
      "41  2008       Median Gross Rent    768\n"
     ]
    }
   ],
   "source": [
    "# (3)(10 pts) Calculate and print the valued and years in which \n",
    "# the highest number of housing units were vacant and occupied. \n",
    "denton_housing = pd.read_csv('lab_assignment_02_denton_housing.csv')\n",
    "#denton_housing = denton_housing.sort_values('value', ascending=False).drop_duplicates(['title_field','year','value'])\n",
    "denton_housing.loc[df.groupby([\"title_field\", \"year\"])[\"value\"].idxmax()] \n",
    "print(denton_housing.to_string())\n"
   ]
  },
  {
   "cell_type": "code",
   "execution_count": null,
   "metadata": {},
   "outputs": [],
   "source": [
    "# (4) (10 pts) Calculate the harmonic mean of the total housing units and print it out. \n",
    "## You can find the information about harmonic mean here: https://ncalculators.com/statistics/harmonic-mean-calculator.htm"
   ]
  },
  {
   "cell_type": "code",
   "execution_count": null,
   "metadata": {},
   "outputs": [],
   "source": []
  }
 ],
 "metadata": {
  "colab": {
   "authorship_tag": "ABX9TyOAjsNCkNulTpzgRQbHdy3f",
   "collapsed_sections": [],
   "include_colab_link": true,
   "name": "INFO5731_Assignment_One.ipynb",
   "provenance": []
  },
  "kernelspec": {
   "display_name": "Python 3 (ipykernel)",
   "language": "python",
   "name": "python3"
  },
  "language_info": {
   "codemirror_mode": {
    "name": "ipython",
    "version": 3
   },
   "file_extension": ".py",
   "mimetype": "text/x-python",
   "name": "python",
   "nbconvert_exporter": "python",
   "pygments_lexer": "ipython3",
   "version": "3.9.12"
  }
 },
 "nbformat": 4,
 "nbformat_minor": 1
}
