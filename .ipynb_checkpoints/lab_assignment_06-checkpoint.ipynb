{
 "cells": [
  {
   "cell_type": "markdown",
   "metadata": {},
   "source": [
    "## The sixth Lab-assignment (08/02/2022 11:59'AM' - 08/05/2022 11:59PM, 50 points in total)"
   ]
  },
  {
   "cell_type": "markdown",
   "metadata": {},
   "source": [
    "The purpose of this exercise is to build a simple predicition model which can helpyou understand the workflow of machine learning. "
   ]
  },
  {
   "cell_type": "markdown",
   "metadata": {},
   "source": [
    "### Q1 Task Decription (50 Points)"
   ]
  },
  {
   "cell_type": "markdown",
   "metadata": {},
   "source": [
    "The goal of this assignment is to predict bike share use, given the hour, day, and information about the weather. Companies like Divvy try to predict how much demand there will be for bikes on any given day to allocate resources to redistribute bikes so that, ideally, very few bike stations are ever full (when you can’t park your bike) or empty (when you can’t pick up a bike if you want to).\n",
    "\n",
    "The data (link: https://github.com/suthapalliuday/INFO5502-Summer2022/tree/main/datasets/lab_assignment_06) in Github provides detailed information on the data set and necessary downloads."
   ]
  },
  {
   "cell_type": "markdown",
   "metadata": {},
   "source": [
    "### Data Description"
   ]
  },
  {
   "cell_type": "markdown",
   "metadata": {},
   "source": [
    "You are provided hourly rental data spanning two years (link: https://github.com/suthapalliuday/INFO5502-Summer2022/tree/main/datasets/lab_assignment_06). For this task, the training set is comprised of the first 16 days of each month, while the test set is the 17-19th day of the month. You must predict the total count of bikes rented during each hour covered by the test set, using only information available prior to the rental period. That is, predict \"count\" without using \"count\" or its components \"casual\" and \"registered\".\n",
    "\n",
    "Data Fields\n",
    "\n",
    "datetime - hourly date + timestamp\n",
    "\n",
    "season - 1 = spring, 2 = summer, 3 = fall, 4 = winter\n",
    "\n",
    "holiday - whether the day is considered a holiday\n",
    "\n",
    "workingday - whether the day is neither a weekend nor holiday\n",
    "\n",
    "weather -\n",
    "\n",
    "1 - Clear, Few clouds, Partly cloudy, Partly cloudy\n",
    "\n",
    "2 - Mist + Cloudy, Mist + Broken clouds, Mist + Few clouds, Mist\n",
    "\n",
    "3 - Light Snow, Light Rain + Thunderstorm + Scattered clouds, Light Rain + Scattered clouds\n",
    "\n",
    "4 - Heavy Rain + Ice Pallets + Thunderstorm + Mist, Snow + Fog\n",
    "\n",
    "temp - temperature in Celsius\n",
    "\n",
    "atemp - \"feels like\" temperature in Celsius\n",
    "\n",
    "humidity - relative humidity\n",
    "\n",
    "windspeed - wind speed\n",
    "\n",
    "casual - number of non-registered user rentals initiated\n",
    "\n",
    "registered - number of registered user rentals initiated\n",
    "\n",
    "count - number of total rentals"
   ]
  },
  {
   "cell_type": "markdown",
   "metadata": {},
   "source": [
    "### Output"
   ]
  },
  {
   "cell_type": "markdown",
   "metadata": {},
   "source": [
    "Submission Format\n",
    "\n",
    "Your output (a separate file) must have a header line and should be structured in the following format:\n",
    "\n",
    " datetime,count\n",
    " \n",
    " 2011-01-20 00:00:00,0 \n",
    " \n",
    " 2011-01-20 01:00:00,0\n",
    " \n",
    " 2011-01-20 02:00:00,0\n",
    " \n",
    " ...\n",
    " \n",
    "The tutorial code should demonstrate how to generate such a file from a very simple prediction model. Note, these prediction are to be done on the test file under the data tab, where you do not know the actual count, and should match the rows of the test file in count and order.\n",
    "\n",
    "Your predictions should be compared to the ground truth information (sample_prediction.csv). Score are calculated using Root Mean Squared Error (RMSE)."
   ]
  },
  {
   "cell_type": "markdown",
   "metadata": {},
   "source": [
    "### Tips"
   ]
  },
  {
   "cell_type": "markdown",
   "metadata": {},
   "source": [
    "●\tAdd features: Pick columns/features from the data you already have. Or make a new feature from the ones you have. For example, the tutorial makes ‘hour’ from the datetime stamp, which seemed very useful. How about ‘month’?\n",
    "\n",
    "●\tModel selection: Try different models. Make sure they are regression models rather than classification models. Tip: random forest regression is a good, all around modeling strategy on complicated data sets.\n",
    "\n",
    "●\tModel tuning: Almost all regression models have parameters to tune (“hyperparameters”). E.g. polynomial regression has the degree of the polynomial (n = 1 for a line, n=2 for a quadratic fit, n=3 for a cubic fit…). Generally, one extreme makes the model too simple (e.g. a line for a curved set of points) and the other extreme makes the model overfit/be too complex, and usually the right choice is in between. For some models it is obvious what to tune (e.g. k for k nearest neighbors regression) and some don’t need much tuning with defaults that often work well. e.g. try changing the number of trees used in the random forest model!\n",
    "\n",
    "●\tCross validation: The tutorial has a simple way of separating training and test data, however, there are better ways of splitting training and test data. Look into cross validation techniques, which are more reliable than an arbitrary split of training and test data.\n",
    "\n",
    "●\tSeparate models for ...: Notice that count comes from just adding casual riders and registered riders. However, what if these two types of riders acted very differently? It might make sense to make two separate models and just add the results of both models together. This is also true for any subsets of your data that may behave wildly differently (e.g. create a separate model for each season?)"
   ]
  },
  {
   "cell_type": "markdown",
   "metadata": {},
   "source": [
    "### Your code"
   ]
  },
  {
   "cell_type": "code",
   "execution_count": 1,
   "metadata": {},
   "outputs": [
    {
     "name": "stdout",
     "output_type": "stream",
     "text": [
      "\n",
      "Number of samples: 9174 and number of features: 12 \n",
      "\n"
     ]
    },
    {
     "data": {
      "text/html": [
       "<div>\n",
       "<style scoped>\n",
       "    .dataframe tbody tr th:only-of-type {\n",
       "        vertical-align: middle;\n",
       "    }\n",
       "\n",
       "    .dataframe tbody tr th {\n",
       "        vertical-align: top;\n",
       "    }\n",
       "\n",
       "    .dataframe thead th {\n",
       "        text-align: right;\n",
       "    }\n",
       "</style>\n",
       "<table border=\"1\" class=\"dataframe\">\n",
       "  <thead>\n",
       "    <tr style=\"text-align: right;\">\n",
       "      <th></th>\n",
       "      <th>datetime</th>\n",
       "      <th>season</th>\n",
       "      <th>holiday</th>\n",
       "      <th>workingday</th>\n",
       "      <th>weather</th>\n",
       "      <th>temp</th>\n",
       "      <th>atemp</th>\n",
       "      <th>humidity</th>\n",
       "      <th>windspeed</th>\n",
       "      <th>casual</th>\n",
       "      <th>registered</th>\n",
       "      <th>count</th>\n",
       "    </tr>\n",
       "  </thead>\n",
       "  <tbody>\n",
       "    <tr>\n",
       "      <th>0</th>\n",
       "      <td>2011-01-01 00:00:00</td>\n",
       "      <td>1</td>\n",
       "      <td>0</td>\n",
       "      <td>0</td>\n",
       "      <td>1</td>\n",
       "      <td>9.84</td>\n",
       "      <td>14.395</td>\n",
       "      <td>81</td>\n",
       "      <td>0.0</td>\n",
       "      <td>3</td>\n",
       "      <td>13</td>\n",
       "      <td>16</td>\n",
       "    </tr>\n",
       "    <tr>\n",
       "      <th>1</th>\n",
       "      <td>2011-01-01 01:00:00</td>\n",
       "      <td>1</td>\n",
       "      <td>0</td>\n",
       "      <td>0</td>\n",
       "      <td>1</td>\n",
       "      <td>9.02</td>\n",
       "      <td>13.635</td>\n",
       "      <td>80</td>\n",
       "      <td>0.0</td>\n",
       "      <td>8</td>\n",
       "      <td>32</td>\n",
       "      <td>40</td>\n",
       "    </tr>\n",
       "    <tr>\n",
       "      <th>2</th>\n",
       "      <td>2011-01-01 02:00:00</td>\n",
       "      <td>1</td>\n",
       "      <td>0</td>\n",
       "      <td>0</td>\n",
       "      <td>1</td>\n",
       "      <td>9.02</td>\n",
       "      <td>13.635</td>\n",
       "      <td>80</td>\n",
       "      <td>0.0</td>\n",
       "      <td>5</td>\n",
       "      <td>27</td>\n",
       "      <td>32</td>\n",
       "    </tr>\n",
       "    <tr>\n",
       "      <th>3</th>\n",
       "      <td>2011-01-01 03:00:00</td>\n",
       "      <td>1</td>\n",
       "      <td>0</td>\n",
       "      <td>0</td>\n",
       "      <td>1</td>\n",
       "      <td>9.84</td>\n",
       "      <td>14.395</td>\n",
       "      <td>75</td>\n",
       "      <td>0.0</td>\n",
       "      <td>3</td>\n",
       "      <td>10</td>\n",
       "      <td>13</td>\n",
       "    </tr>\n",
       "    <tr>\n",
       "      <th>4</th>\n",
       "      <td>2011-01-01 04:00:00</td>\n",
       "      <td>1</td>\n",
       "      <td>0</td>\n",
       "      <td>0</td>\n",
       "      <td>1</td>\n",
       "      <td>9.84</td>\n",
       "      <td>14.395</td>\n",
       "      <td>75</td>\n",
       "      <td>0.0</td>\n",
       "      <td>0</td>\n",
       "      <td>1</td>\n",
       "      <td>1</td>\n",
       "    </tr>\n",
       "  </tbody>\n",
       "</table>\n",
       "</div>"
      ],
      "text/plain": [
       "              datetime  season  holiday  workingday  weather  temp   atemp  \\\n",
       "0  2011-01-01 00:00:00       1        0           0        1  9.84  14.395   \n",
       "1  2011-01-01 01:00:00       1        0           0        1  9.02  13.635   \n",
       "2  2011-01-01 02:00:00       1        0           0        1  9.02  13.635   \n",
       "3  2011-01-01 03:00:00       1        0           0        1  9.84  14.395   \n",
       "4  2011-01-01 04:00:00       1        0           0        1  9.84  14.395   \n",
       "\n",
       "   humidity  windspeed  casual  registered  count  \n",
       "0        81        0.0       3          13     16  \n",
       "1        80        0.0       8          32     40  \n",
       "2        80        0.0       5          27     32  \n",
       "3        75        0.0       3          10     13  \n",
       "4        75        0.0       0           1      1  "
      ]
     },
     "execution_count": 1,
     "metadata": {},
     "output_type": "execute_result"
    }
   ],
   "source": [
    "### You code here:\n",
    "import pandas as pd\n",
    "import numpy as np\n",
    "import csv as csv\n",
    "from datetime import datetime\n",
    "import matplotlib.pyplot as plt\n",
    "\n",
    "%matplotlib inline\n",
    "\n",
    "# read the data and display the first 5 rows\n",
    "train_df = pd.read_csv('train_luc.csv', header=0)\n",
    "\n",
    "print(\"\\nNumber of samples:\",train_df.shape[0],\"and number of features:\",train_df.shape[1],\"\\n\")\n",
    "\n",
    "train_df.head()"
   ]
  },
  {
   "cell_type": "code",
   "execution_count": 2,
   "metadata": {},
   "outputs": [
    {
     "data": {
      "text/html": [
       "<div>\n",
       "<style scoped>\n",
       "    .dataframe tbody tr th:only-of-type {\n",
       "        vertical-align: middle;\n",
       "    }\n",
       "\n",
       "    .dataframe tbody tr th {\n",
       "        vertical-align: top;\n",
       "    }\n",
       "\n",
       "    .dataframe thead th {\n",
       "        text-align: right;\n",
       "    }\n",
       "</style>\n",
       "<table border=\"1\" class=\"dataframe\">\n",
       "  <thead>\n",
       "    <tr style=\"text-align: right;\">\n",
       "      <th></th>\n",
       "      <th>season</th>\n",
       "      <th>holiday</th>\n",
       "      <th>workingday</th>\n",
       "      <th>weather</th>\n",
       "      <th>temp</th>\n",
       "      <th>atemp</th>\n",
       "      <th>humidity</th>\n",
       "      <th>windspeed</th>\n",
       "      <th>casual</th>\n",
       "      <th>registered</th>\n",
       "      <th>count</th>\n",
       "    </tr>\n",
       "  </thead>\n",
       "  <tbody>\n",
       "    <tr>\n",
       "      <th>count</th>\n",
       "      <td>9174.000000</td>\n",
       "      <td>9174.000000</td>\n",
       "      <td>9174.000000</td>\n",
       "      <td>9174.000000</td>\n",
       "      <td>9174.000000</td>\n",
       "      <td>9174.000000</td>\n",
       "      <td>9174.000000</td>\n",
       "      <td>9174.000000</td>\n",
       "      <td>9174.000000</td>\n",
       "      <td>9174.000000</td>\n",
       "      <td>9174.000000</td>\n",
       "    </tr>\n",
       "    <tr>\n",
       "      <th>mean</th>\n",
       "      <td>2.505559</td>\n",
       "      <td>0.031284</td>\n",
       "      <td>0.678875</td>\n",
       "      <td>1.414868</td>\n",
       "      <td>20.130401</td>\n",
       "      <td>23.578433</td>\n",
       "      <td>61.715064</td>\n",
       "      <td>12.737931</td>\n",
       "      <td>35.713647</td>\n",
       "      <td>154.868106</td>\n",
       "      <td>190.581753</td>\n",
       "    </tr>\n",
       "    <tr>\n",
       "      <th>std</th>\n",
       "      <td>1.116618</td>\n",
       "      <td>0.174094</td>\n",
       "      <td>0.466934</td>\n",
       "      <td>0.635363</td>\n",
       "      <td>7.940504</td>\n",
       "      <td>8.617957</td>\n",
       "      <td>19.401829</td>\n",
       "      <td>8.199027</td>\n",
       "      <td>49.667738</td>\n",
       "      <td>150.981155</td>\n",
       "      <td>181.011530</td>\n",
       "    </tr>\n",
       "    <tr>\n",
       "      <th>min</th>\n",
       "      <td>1.000000</td>\n",
       "      <td>0.000000</td>\n",
       "      <td>0.000000</td>\n",
       "      <td>1.000000</td>\n",
       "      <td>0.820000</td>\n",
       "      <td>0.760000</td>\n",
       "      <td>0.000000</td>\n",
       "      <td>0.000000</td>\n",
       "      <td>0.000000</td>\n",
       "      <td>0.000000</td>\n",
       "      <td>1.000000</td>\n",
       "    </tr>\n",
       "    <tr>\n",
       "      <th>25%</th>\n",
       "      <td>2.000000</td>\n",
       "      <td>0.000000</td>\n",
       "      <td>0.000000</td>\n",
       "      <td>1.000000</td>\n",
       "      <td>13.940000</td>\n",
       "      <td>16.665000</td>\n",
       "      <td>46.000000</td>\n",
       "      <td>7.001500</td>\n",
       "      <td>4.000000</td>\n",
       "      <td>35.000000</td>\n",
       "      <td>41.000000</td>\n",
       "    </tr>\n",
       "    <tr>\n",
       "      <th>50%</th>\n",
       "      <td>3.000000</td>\n",
       "      <td>0.000000</td>\n",
       "      <td>1.000000</td>\n",
       "      <td>1.000000</td>\n",
       "      <td>20.500000</td>\n",
       "      <td>24.240000</td>\n",
       "      <td>61.000000</td>\n",
       "      <td>11.001400</td>\n",
       "      <td>16.000000</td>\n",
       "      <td>117.000000</td>\n",
       "      <td>144.000000</td>\n",
       "    </tr>\n",
       "    <tr>\n",
       "      <th>75%</th>\n",
       "      <td>4.000000</td>\n",
       "      <td>0.000000</td>\n",
       "      <td>1.000000</td>\n",
       "      <td>2.000000</td>\n",
       "      <td>27.060000</td>\n",
       "      <td>31.060000</td>\n",
       "      <td>78.000000</td>\n",
       "      <td>16.997900</td>\n",
       "      <td>48.000000</td>\n",
       "      <td>222.000000</td>\n",
       "      <td>282.000000</td>\n",
       "    </tr>\n",
       "    <tr>\n",
       "      <th>max</th>\n",
       "      <td>4.000000</td>\n",
       "      <td>1.000000</td>\n",
       "      <td>1.000000</td>\n",
       "      <td>4.000000</td>\n",
       "      <td>41.000000</td>\n",
       "      <td>45.455000</td>\n",
       "      <td>100.000000</td>\n",
       "      <td>56.996900</td>\n",
       "      <td>362.000000</td>\n",
       "      <td>886.000000</td>\n",
       "      <td>977.000000</td>\n",
       "    </tr>\n",
       "  </tbody>\n",
       "</table>\n",
       "</div>"
      ],
      "text/plain": [
       "            season      holiday   workingday      weather         temp  \\\n",
       "count  9174.000000  9174.000000  9174.000000  9174.000000  9174.000000   \n",
       "mean      2.505559     0.031284     0.678875     1.414868    20.130401   \n",
       "std       1.116618     0.174094     0.466934     0.635363     7.940504   \n",
       "min       1.000000     0.000000     0.000000     1.000000     0.820000   \n",
       "25%       2.000000     0.000000     0.000000     1.000000    13.940000   \n",
       "50%       3.000000     0.000000     1.000000     1.000000    20.500000   \n",
       "75%       4.000000     0.000000     1.000000     2.000000    27.060000   \n",
       "max       4.000000     1.000000     1.000000     4.000000    41.000000   \n",
       "\n",
       "             atemp     humidity    windspeed       casual   registered  \\\n",
       "count  9174.000000  9174.000000  9174.000000  9174.000000  9174.000000   \n",
       "mean     23.578433    61.715064    12.737931    35.713647   154.868106   \n",
       "std       8.617957    19.401829     8.199027    49.667738   150.981155   \n",
       "min       0.760000     0.000000     0.000000     0.000000     0.000000   \n",
       "25%      16.665000    46.000000     7.001500     4.000000    35.000000   \n",
       "50%      24.240000    61.000000    11.001400    16.000000   117.000000   \n",
       "75%      31.060000    78.000000    16.997900    48.000000   222.000000   \n",
       "max      45.455000   100.000000    56.996900   362.000000   886.000000   \n",
       "\n",
       "             count  \n",
       "count  9174.000000  \n",
       "mean    190.581753  \n",
       "std     181.011530  \n",
       "min       1.000000  \n",
       "25%      41.000000  \n",
       "50%     144.000000  \n",
       "75%     282.000000  \n",
       "max     977.000000  "
      ]
     },
     "execution_count": 2,
     "metadata": {},
     "output_type": "execute_result"
    }
   ],
   "source": [
    "# read the data \n",
    "train_df.describe()"
   ]
  },
  {
   "cell_type": "code",
   "execution_count": 3,
   "metadata": {},
   "outputs": [
    {
     "data": {
      "text/html": [
       "<div>\n",
       "<style scoped>\n",
       "    .dataframe tbody tr th:only-of-type {\n",
       "        vertical-align: middle;\n",
       "    }\n",
       "\n",
       "    .dataframe tbody tr th {\n",
       "        vertical-align: top;\n",
       "    }\n",
       "\n",
       "    .dataframe thead th {\n",
       "        text-align: right;\n",
       "    }\n",
       "</style>\n",
       "<table border=\"1\" class=\"dataframe\">\n",
       "  <thead>\n",
       "    <tr style=\"text-align: right;\">\n",
       "      <th></th>\n",
       "      <th>datetime</th>\n",
       "      <th>season</th>\n",
       "      <th>holiday</th>\n",
       "      <th>workingday</th>\n",
       "      <th>weather</th>\n",
       "      <th>temp</th>\n",
       "      <th>atemp</th>\n",
       "      <th>humidity</th>\n",
       "      <th>windspeed</th>\n",
       "      <th>casual</th>\n",
       "      <th>registered</th>\n",
       "      <th>count</th>\n",
       "      <th>month</th>\n",
       "    </tr>\n",
       "  </thead>\n",
       "  <tbody>\n",
       "    <tr>\n",
       "      <th>0</th>\n",
       "      <td>2011-01-01 00:00:00</td>\n",
       "      <td>1</td>\n",
       "      <td>0</td>\n",
       "      <td>0</td>\n",
       "      <td>1</td>\n",
       "      <td>9.84</td>\n",
       "      <td>14.395</td>\n",
       "      <td>81</td>\n",
       "      <td>0.0</td>\n",
       "      <td>3</td>\n",
       "      <td>13</td>\n",
       "      <td>16</td>\n",
       "      <td>1</td>\n",
       "    </tr>\n",
       "    <tr>\n",
       "      <th>1</th>\n",
       "      <td>2011-01-01 01:00:00</td>\n",
       "      <td>1</td>\n",
       "      <td>0</td>\n",
       "      <td>0</td>\n",
       "      <td>1</td>\n",
       "      <td>9.02</td>\n",
       "      <td>13.635</td>\n",
       "      <td>80</td>\n",
       "      <td>0.0</td>\n",
       "      <td>8</td>\n",
       "      <td>32</td>\n",
       "      <td>40</td>\n",
       "      <td>1</td>\n",
       "    </tr>\n",
       "    <tr>\n",
       "      <th>2</th>\n",
       "      <td>2011-01-01 02:00:00</td>\n",
       "      <td>1</td>\n",
       "      <td>0</td>\n",
       "      <td>0</td>\n",
       "      <td>1</td>\n",
       "      <td>9.02</td>\n",
       "      <td>13.635</td>\n",
       "      <td>80</td>\n",
       "      <td>0.0</td>\n",
       "      <td>5</td>\n",
       "      <td>27</td>\n",
       "      <td>32</td>\n",
       "      <td>1</td>\n",
       "    </tr>\n",
       "    <tr>\n",
       "      <th>3</th>\n",
       "      <td>2011-01-01 03:00:00</td>\n",
       "      <td>1</td>\n",
       "      <td>0</td>\n",
       "      <td>0</td>\n",
       "      <td>1</td>\n",
       "      <td>9.84</td>\n",
       "      <td>14.395</td>\n",
       "      <td>75</td>\n",
       "      <td>0.0</td>\n",
       "      <td>3</td>\n",
       "      <td>10</td>\n",
       "      <td>13</td>\n",
       "      <td>1</td>\n",
       "    </tr>\n",
       "    <tr>\n",
       "      <th>4</th>\n",
       "      <td>2011-01-01 04:00:00</td>\n",
       "      <td>1</td>\n",
       "      <td>0</td>\n",
       "      <td>0</td>\n",
       "      <td>1</td>\n",
       "      <td>9.84</td>\n",
       "      <td>14.395</td>\n",
       "      <td>75</td>\n",
       "      <td>0.0</td>\n",
       "      <td>0</td>\n",
       "      <td>1</td>\n",
       "      <td>1</td>\n",
       "      <td>1</td>\n",
       "    </tr>\n",
       "  </tbody>\n",
       "</table>\n",
       "</div>"
      ],
      "text/plain": [
       "              datetime  season  holiday  workingday  weather  temp   atemp  \\\n",
       "0  2011-01-01 00:00:00       1        0           0        1  9.84  14.395   \n",
       "1  2011-01-01 01:00:00       1        0           0        1  9.02  13.635   \n",
       "2  2011-01-01 02:00:00       1        0           0        1  9.02  13.635   \n",
       "3  2011-01-01 03:00:00       1        0           0        1  9.84  14.395   \n",
       "4  2011-01-01 04:00:00       1        0           0        1  9.84  14.395   \n",
       "\n",
       "   humidity  windspeed  casual  registered  count  month  \n",
       "0        81        0.0       3          13     16      1  \n",
       "1        80        0.0       8          32     40      1  \n",
       "2        80        0.0       5          27     32      1  \n",
       "3        75        0.0       3          10     13      1  \n",
       "4        75        0.0       0           1      1      1  "
      ]
     },
     "execution_count": 3,
     "metadata": {},
     "output_type": "execute_result"
    }
   ],
   "source": [
    "# Getting month from datetime and label it as month\n",
    "\n",
    "train_df['month'] = pd.DatetimeIndex(train_df['datetime']).month\n",
    "train_df.head()\n"
   ]
  },
  {
   "cell_type": "code",
   "execution_count": 4,
   "metadata": {},
   "outputs": [
    {
     "name": "stdout",
     "output_type": "stream",
     "text": [
      "month: [ 1  2  3  4  5  6  7  8  9 10 11 12]\n"
     ]
    },
    {
     "data": {
      "text/plain": [
       "Text(0.5, 1.0, 'Measured bike use over 2 years')"
      ]
     },
     "execution_count": 4,
     "metadata": {},
     "output_type": "execute_result"
    },
    {
     "data": {
      "image/png": "[encoded data removed]",
      "text/plain": [
       "<Figure size 432x288 with 1 Axes>"
      ]
     },
     "metadata": {
      "needs_background": "light"
     },
     "output_type": "display_data"
    }
   ],
   "source": [
    "# Average amount of bike use for each month in a year\n",
    "\n",
    "month = np.unique(train_df['month'])\n",
    "print(\"month:\",month)\n",
    "\n",
    "month_mean = {}\n",
    "for m in month:\n",
    "    temp_df = train_df.loc[train_df['month'] == m]\n",
    "    month_mean[m] = temp_df['count'].mean()\n",
    "\n",
    "# plot the results. Maybe should see peaks from bike commuting or evening use\n",
    "plt.bar(month,[month_mean[m] for m in month])\n",
    "plt.xlabel(\"month\")\n",
    "plt.ylabel(\"average number of bikes used\")\n",
    "plt.title(\"Measured bike use over 2 years\")"
   ]
  },
  {
   "cell_type": "code",
   "execution_count": 5,
   "metadata": {},
   "outputs": [
    {
     "name": "stdout",
     "output_type": "stream",
     "text": [
      "weather: [1 2 3 4]\n"
     ]
    },
    {
     "data": {
      "text/plain": [
       "Text(0.5, 1.0, 'Measured bike use over 2 years')"
      ]
     },
     "execution_count": 5,
     "metadata": {},
     "output_type": "execute_result"
    },
    {
     "data": {
      "image/png": "[encoded data removed]",
      "text/plain": [
       "<Figure size 432x288 with 1 Axes>"
      ]
     },
     "metadata": {
      "needs_background": "light"
     },
     "output_type": "display_data"
    }
   ],
   "source": [
    "# Average amount of bike use for each weather type in a year\n",
    "\n",
    "weather = np.unique(train_df['weather'])\n",
    "print(\"weather:\",weather)\n",
    "\n",
    "weather_mean = {}\n",
    "for w in weather:\n",
    "    temp_df = train_df.loc[train_df['weather'] == w]\n",
    "    weather_mean[w] = temp_df['count'].mean()\n",
    "\n",
    "# plot the results. Maybe should see peaks from bike commuting or evening use\n",
    "plt.bar(weather,[weather_mean[w] for w in weather])\n",
    "plt.xlabel(\"weather\")\n",
    "plt.ylabel(\"average number of bikes used\")\n",
    "plt.title(\"Measured bike use over 2 years\")"
   ]
  },
  {
   "cell_type": "code",
   "execution_count": 6,
   "metadata": {},
   "outputs": [
    {
     "name": "stdout",
     "output_type": "stream",
     "text": [
      "columns selected for later: ['month', 'weather']\n",
      "RandomForestRegressor(n_estimators=500)\n"
     ]
    }
   ],
   "source": [
    "# random Forest Regression\n",
    "from sklearn.ensemble import RandomForestRegressor\n",
    "\n",
    "# pick features\n",
    "cols = ['month', 'weather']\n",
    "\n",
    "# pick one by commenting/uncommenting\n",
    "model = RandomForestRegressor(n_estimators = 500)\n",
    "\n",
    "print(\"columns selected for later:\",cols)\n",
    "print(model) # to get an idea of parameters and confirm model chosen"
   ]
  },
  {
   "cell_type": "code",
   "execution_count": 7,
   "metadata": {},
   "outputs": [
    {
     "name": "stdout",
     "output_type": "stream",
     "text": [
      "samples in the new training subset: 6880\n",
      "samples in the new test subset: 2294\n"
     ]
    }
   ],
   "source": [
    "#splitting training and testing by hand\n",
    "\n",
    "# get number of rows in the training set\n",
    "n = len(train_df) \n",
    "\n",
    "# fraction of training data to split off for internal testing\n",
    "training_size = 0.75 \n",
    "\n",
    "# set up separate training and testing sets using shuffled array indices\n",
    "indices = np.array(range(n))\n",
    "from numpy.random import shuffle\n",
    "shuffle(indices)\n",
    "split_point = int(n*training_size)\n",
    "mytrain_i = indices[0:split_point]\n",
    "mytest_i = indices[split_point:]\n",
    "\n",
    "# now use those shuffled indices to separating training from test dataframes\n",
    "new_train_df = train_df.iloc[mytrain_i]\n",
    "new_test_df = train_df.iloc[mytest_i]\n",
    "\n",
    "print(\"samples in the new training subset:\",len(new_train_df))\n",
    "print(\"samples in the new test subset:\",len(new_test_df))"
   ]
  },
  {
   "cell_type": "code",
   "execution_count": 8,
   "metadata": {},
   "outputs": [
    {
     "name": "stdout",
     "output_type": "stream",
     "text": [
      "RMS error: 169.21681421806036\n"
     ]
    }
   ],
   "source": [
    "# fit the model to the training subset of original training data\n",
    "model.fit(new_train_df[cols], new_train_df['count'])\n",
    "\n",
    "# predict on the testing subset of the original training data\n",
    "pred_count = model.predict(new_test_df[cols])\n",
    "\n",
    "# score the model on the new test set\n",
    "from sklearn.metrics import mean_squared_error\n",
    "rms = np.sqrt(mean_squared_error(new_test_df['count'],pred_count))\n",
    "print(\"RMS error:\",rms)\n"
   ]
  },
  {
   "cell_type": "code",
   "execution_count": 9,
   "metadata": {},
   "outputs": [
    {
     "name": "stdout",
     "output_type": "stream",
     "text": [
      "\n",
      "Number of samples: 1712 and number of features: 9 \n",
      "\n",
      "RMS error: 140.2270183755223\n",
      "RMS error: 140.19119626884412\n",
      "Prediction complete. Saved as my_prediction.csv\n"
     ]
    }
   ],
   "source": [
    "# read in the test data\n",
    "test_df = pd.read_csv('test_luc.csv', header=0)\n",
    "print(\"\\nNumber of samples:\",test_df.shape[0] ,\"and number of features:\",test_df.shape[1],\"\\n\")\n",
    "\n",
    "#Read sample data:\n",
    "sample_prediction = pd.read_csv('sample_prediction.csv', header=0)\n",
    "\n",
    "# add new feature into the test data too, to use it in prediction\n",
    "test_df['month'] = pd.DatetimeIndex(test_df['datetime']).month\n",
    "\n",
    "# fit the selected model and apply to the test data\n",
    "model.fit( train_df[cols], train_df['count'])\n",
    "predicted_count = model.predict(test_df[cols])\n",
    "\n",
    "model.fit( train_df[cols], train_df['registered'])\n",
    "predicted_registered = model.predict(test_df[cols])\n",
    "\n",
    "model.fit( train_df[cols], train_df['casual'])\n",
    "predicted_casual = model.predict(test_df[cols])\n",
    "\n",
    "# add the prediction column (in case you want to inspect it later)\n",
    "test_df['count'] = predicted_count\n",
    "test_df['registered'] = predicted_registered\n",
    "test_df['casual'] = predicted_casual\n",
    "\n",
    "rms_a = np.sqrt(mean_squared_error(sample_prediction['count'],predicted_casual+predicted_registered))\n",
    "print(\"RMS error:\",rms_a)\n",
    "\n",
    "rms_b = np.sqrt(mean_squared_error(sample_prediction['count'],predicted_count))\n",
    "print(\"RMS error:\",rms_b)\n",
    "\n",
    "# save the predicted count as a csv with a header column and datetime row\n",
    "test_df = test_df[['datetime','count']].to_csv('my_prediction.csv', \n",
    "    index=False, header=True)\n",
    "\n",
    "print(\"Prediction complete. Saved as my_prediction.csv\")"
   ]
  },
  {
   "cell_type": "markdown",
   "metadata": {},
   "source": [
    " Question 2 (20 points) Build a regession model to predict the change in price of the stock overtime. It can either be linear regression or non-linear regression. You can download the dataset from here: https://github.com/suthapalliuday/INFO5502-Summer2022/blob/main/datasets/portfolio_data.csv. The implementation of the LSTM on this same dataset was posted here as an reference: https://www.kaggle.com/code/faressayah/stock-market-analysis-prediction-using-lstm/notebook"
   ]
  },
  {
   "cell_type": "markdown",
   "metadata": {},
   "source": [
    " ### Your code"
   ]
  },
  {
   "cell_type": "code",
   "execution_count": 10,
   "metadata": {},
   "outputs": [
    {
     "name": "stdout",
     "output_type": "stream",
     "text": [
      "\n",
      "Number of samples: 1520 and number of features: 5 \n",
      "\n"
     ]
    },
    {
     "data": {
      "text/html": [
       "<div>\n",
       "<style scoped>\n",
       "    .dataframe tbody tr th:only-of-type {\n",
       "        vertical-align: middle;\n",
       "    }\n",
       "\n",
       "    .dataframe tbody tr th {\n",
       "        vertical-align: top;\n",
       "    }\n",
       "\n",
       "    .dataframe thead th {\n",
       "        text-align: right;\n",
       "    }\n",
       "</style>\n",
       "<table border=\"1\" class=\"dataframe\">\n",
       "  <thead>\n",
       "    <tr style=\"text-align: right;\">\n",
       "      <th></th>\n",
       "      <th>Date</th>\n",
       "      <th>AMZN</th>\n",
       "      <th>DPZ</th>\n",
       "      <th>BTC</th>\n",
       "      <th>NFLX</th>\n",
       "    </tr>\n",
       "  </thead>\n",
       "  <tbody>\n",
       "    <tr>\n",
       "      <th>0</th>\n",
       "      <td>5/1/2013</td>\n",
       "      <td>248.229996</td>\n",
       "      <td>51.190983</td>\n",
       "      <td>106.250000</td>\n",
       "      <td>30.415714</td>\n",
       "    </tr>\n",
       "    <tr>\n",
       "      <th>1</th>\n",
       "      <td>5/2/2013</td>\n",
       "      <td>252.550003</td>\n",
       "      <td>51.987320</td>\n",
       "      <td>98.099998</td>\n",
       "      <td>30.641428</td>\n",
       "    </tr>\n",
       "    <tr>\n",
       "      <th>2</th>\n",
       "      <td>5/3/2013</td>\n",
       "      <td>258.049988</td>\n",
       "      <td>52.446388</td>\n",
       "      <td>112.900002</td>\n",
       "      <td>30.492857</td>\n",
       "    </tr>\n",
       "    <tr>\n",
       "      <th>3</th>\n",
       "      <td>5/6/2013</td>\n",
       "      <td>255.720001</td>\n",
       "      <td>53.205257</td>\n",
       "      <td>109.599998</td>\n",
       "      <td>30.098572</td>\n",
       "    </tr>\n",
       "    <tr>\n",
       "      <th>4</th>\n",
       "      <td>5/7/2013</td>\n",
       "      <td>257.730011</td>\n",
       "      <td>54.151505</td>\n",
       "      <td>113.199997</td>\n",
       "      <td>29.464285</td>\n",
       "    </tr>\n",
       "  </tbody>\n",
       "</table>\n",
       "</div>"
      ],
      "text/plain": [
       "       Date        AMZN        DPZ         BTC       NFLX\n",
       "0  5/1/2013  248.229996  51.190983  106.250000  30.415714\n",
       "1  5/2/2013  252.550003  51.987320   98.099998  30.641428\n",
       "2  5/3/2013  258.049988  52.446388  112.900002  30.492857\n",
       "3  5/6/2013  255.720001  53.205257  109.599998  30.098572\n",
       "4  5/7/2013  257.730011  54.151505  113.199997  29.464285"
      ]
     },
     "execution_count": 10,
     "metadata": {},
     "output_type": "execute_result"
    }
   ],
   "source": [
    "### You code here:\n",
    "### Reference: https://medium.com/analytics-vidhya/using-linear-regression-to-predict-aapl-apple-stock-prices-in-python-1a629fbea15b\n",
    "\n",
    "import pandas as pd\n",
    "import numpy as np\n",
    "import csv as csv\n",
    "import matplotlib.pyplot as plt\n",
    "from sklearn.linear_model import LinearRegression\n",
    "import seaborn \n",
    "\n",
    "%matplotlib inline\n",
    "\n",
    "# read the data and display the first 5 rows\n",
    "bitcoin_df = pd.read_csv('portfolio_data.csv')\n",
    "\n",
    "print(\"\\nNumber of samples:\",bitcoin_df.shape[0],\"and number of features:\",bitcoin_df.shape[1],\"\\n\")\n",
    "\n",
    "bitcoin_df.head()\n",
    "\n"
   ]
  },
  {
   "cell_type": "code",
   "execution_count": 11,
   "metadata": {},
   "outputs": [
    {
     "data": {
      "image/png": "[encoded data removed]",
      "text/plain": [
       "<Figure size 720x360 with 1 Axes>"
      ]
     },
     "metadata": {
      "needs_background": "light"
     },
     "output_type": "display_data"
    }
   ],
   "source": [
    "#Plot current BTC data\n",
    "\n",
    "bitcoin_df=bitcoin_df.set_index('Date')\n",
    "bitcoin_df = bitcoin_df[['BTC']]\n",
    "bitcoin_df= bitcoin_df.dropna() \n",
    "\n",
    "bitcoin_df.head()\n",
    "bitcoin_df.BTC.plot(figsize=(10,5)) \n",
    "plt.ylabel(\"BTC Prices\")\n",
    "plt.show()"
   ]
  },
  {
   "cell_type": "code",
   "execution_count": 12,
   "metadata": {},
   "outputs": [
    {
     "data": {
      "text/html": [
       "<div>\n",
       "<style scoped>\n",
       "    .dataframe tbody tr th:only-of-type {\n",
       "        vertical-align: middle;\n",
       "    }\n",
       "\n",
       "    .dataframe tbody tr th {\n",
       "        vertical-align: top;\n",
       "    }\n",
       "\n",
       "    .dataframe thead th {\n",
       "        text-align: right;\n",
       "    }\n",
       "</style>\n",
       "<table border=\"1\" class=\"dataframe\">\n",
       "  <thead>\n",
       "    <tr style=\"text-align: right;\">\n",
       "      <th></th>\n",
       "      <th>S_5</th>\n",
       "      <th>S_10</th>\n",
       "    </tr>\n",
       "    <tr>\n",
       "      <th>Date</th>\n",
       "      <th></th>\n",
       "      <th></th>\n",
       "    </tr>\n",
       "  </thead>\n",
       "  <tbody>\n",
       "    <tr>\n",
       "      <th>5/15/2013</th>\n",
       "      <td>114.352</td>\n",
       "      <td>111.181000</td>\n",
       "    </tr>\n",
       "    <tr>\n",
       "      <th>5/16/2013</th>\n",
       "      <td>115.434</td>\n",
       "      <td>112.377000</td>\n",
       "    </tr>\n",
       "    <tr>\n",
       "      <th>5/17/2013</th>\n",
       "      <td>116.594</td>\n",
       "      <td>114.917000</td>\n",
       "    </tr>\n",
       "    <tr>\n",
       "      <th>5/20/2013</th>\n",
       "      <td>118.108</td>\n",
       "      <td>115.947999</td>\n",
       "    </tr>\n",
       "    <tr>\n",
       "      <th>5/21/2013</th>\n",
       "      <td>120.406</td>\n",
       "      <td>117.277000</td>\n",
       "    </tr>\n",
       "  </tbody>\n",
       "</table>\n",
       "</div>"
      ],
      "text/plain": [
       "               S_5        S_10\n",
       "Date                          \n",
       "5/15/2013  114.352  111.181000\n",
       "5/16/2013  115.434  112.377000\n",
       "5/17/2013  116.594  114.917000\n",
       "5/20/2013  118.108  115.947999\n",
       "5/21/2013  120.406  117.277000"
      ]
     },
     "execution_count": 12,
     "metadata": {},
     "output_type": "execute_result"
    }
   ],
   "source": [
    "#moving averages for past 5 days and 10 days\n",
    "\n",
    "bitcoin_df['S_5'] = bitcoin_df['BTC'].shift(1).rolling(window=5).mean() \n",
    "bitcoin_df['S_10']= bitcoin_df['BTC'].shift(1).rolling(window=10).mean() \n",
    "bitcoin_df= bitcoin_df.dropna() \n",
    "X = bitcoin_df[['S_5','S_10']] \n",
    "X.head()"
   ]
  },
  {
   "cell_type": "code",
   "execution_count": 13,
   "metadata": {},
   "outputs": [
    {
     "data": {
      "text/plain": [
       "Date\n",
       "5/15/2013    118.209999\n",
       "5/16/2013    123.500000\n",
       "5/17/2013    123.209999\n",
       "5/20/2013    122.889999\n",
       "5/21/2013    123.800003\n",
       "Name: BTC, dtype: float64"
      ]
     },
     "execution_count": 13,
     "metadata": {},
     "output_type": "execute_result"
    }
   ],
   "source": [
    "y = bitcoin_df['BTC']\n",
    "y.head()\n"
   ]
  },
  {
   "cell_type": "code",
   "execution_count": 14,
   "metadata": {},
   "outputs": [],
   "source": [
    "#Split data, 80% training and 20% testing\n",
    "\n",
    "t=.8 \n",
    "t = int(t*len(bitcoin_df)) \n",
    "\n",
    "# Train dataset \n",
    "X_train = X[:t] \n",
    "y_train = y[:t]  \n",
    "\n",
    "# Test dataset \n",
    "X_test = X[t:] \n",
    "y_test = y[t:]"
   ]
  },
  {
   "cell_type": "code",
   "execution_count": 15,
   "metadata": {},
   "outputs": [
    {
     "data": {
      "image/png": "[encoded data removed]",
      "text/plain": [
       "<Figure size 720x360 with 1 Axes>"
      ]
     },
     "metadata": {
      "needs_background": "light"
     },
     "output_type": "display_data"
    }
   ],
   "source": [
    "#Creating linear regression model\n",
    "\n",
    "linear = LinearRegression().fit(X_train,y_train)\n",
    "predicted_price = linear.predict(X_test)  \n",
    "predicted_price = pd.DataFrame(predicted_price,index=y_test.index,columns = ['BTC'])  \n",
    "predicted_price.plot(figsize=(10,5))  \n",
    "y_test.plot()  \n",
    "plt.legend(['predicted_price','actual_price'])  \n",
    "plt.ylabel(\"BTC Price\")  \n",
    "plt.show()"
   ]
  }
 ],
 "metadata": {
  "kernelspec": {
   "display_name": "Python 3 (ipykernel)",
   "language": "python",
   "name": "python3"
  },
  "language_info": {
   "codemirror_mode": {
    "name": "ipython",
    "version": 3
   },
   "file_extension": ".py",
   "mimetype": "text/x-python",
   "name": "python",
   "nbconvert_exporter": "python",
   "pygments_lexer": "ipython3",
   "version": "3.9.12"
  }
 },
 "nbformat": 4,
 "nbformat_minor": 4
}
